{
 "cells": [
  {
   "cell_type": "code",
   "execution_count": 1,
   "id": "26bc5ae7",
   "metadata": {},
   "outputs": [
    {
     "data": {
      "text/plain": [
       "['mozzarella', 'cinderella', 'salmonella']"
      ]
     },
     "execution_count": 1,
     "metadata": {},
     "output_type": "execute_result"
    }
   ],
   "source": [
    "#7.4 make a list of 3 things called things\n",
    "things = [\"mozzarella\", \"cinderella\", \"salmonella\"]\n",
    "things"
   ]
  },
  {
   "cell_type": "code",
   "execution_count": 2,
   "id": "f524d315",
   "metadata": {},
   "outputs": [
    {
     "data": {
      "text/plain": [
       "['mozzarella', 'Cinderella', 'salmonella']"
      ]
     },
     "execution_count": 2,
     "metadata": {},
     "output_type": "execute_result"
    }
   ],
   "source": [
    "#7.5 Capitalize the element that refers to a person, Cinderella.\n",
    "things [1]=things[1].capitalize()\n",
    "things"
   ]
  },
  {
   "cell_type": "code",
   "execution_count": 3,
   "id": "45f2e54c",
   "metadata": {},
   "outputs": [
    {
     "name": "stdout",
     "output_type": "stream",
     "text": [
      "MOZZARELLA\n",
      "CINDERELLA\n",
      "SALMONELLA\n"
     ]
    },
    {
     "data": {
      "text/plain": [
       "['mozzarella', 'Cinderella', 'salmonella']"
      ]
     },
     "execution_count": 3,
     "metadata": {},
     "output_type": "execute_result"
    }
   ],
   "source": [
    "#7.6 make everyhting uppercase \n",
    "for i in things:\n",
    "    print(i.upper())\n",
    "things"
   ]
  },
  {
   "cell_type": "code",
   "execution_count": 4,
   "id": "61a7f8e4",
   "metadata": {},
   "outputs": [
    {
     "data": {
      "text/plain": [
       "['mozzarella', 'Cinderella']"
      ]
     },
     "execution_count": 4,
     "metadata": {},
     "output_type": "execute_result"
    }
   ],
   "source": [
    "#7.7 remove the disease element from thing and print the list.\n",
    "things.remove('salmonella')\n",
    "things"
   ]
  },
  {
   "cell_type": "code",
   "execution_count": 5,
   "id": "8c5475d7",
   "metadata": {},
   "outputs": [
    {
     "data": {
      "text/plain": [
       "['Harry', 'Ron', 'Hermione']"
      ]
     },
     "execution_count": 5,
     "metadata": {},
     "output_type": "execute_result"
    }
   ],
   "source": [
    "#9.1 create a function that returns ['Harry', 'Ron', 'Hermione']\n",
    "def good():\n",
    "    return ['Harry', 'Ron', 'Hermione']\n",
    "good()"
   ]
  },
  {
   "cell_type": "code",
   "execution_count": 6,
   "id": "d8a49222",
   "metadata": {},
   "outputs": [
    {
     "name": "stdout",
     "output_type": "stream",
     "text": [
      "5\n"
     ]
    }
   ],
   "source": [
    "#9.2 A function that returns odd numbers from a range of 10\n",
    "\n",
    "def find_odds():\n",
    "    odds=[]\n",
    "    count = 0\n",
    "    ##checking if the number is odd and put it on a list\n",
    "    for num in range(10):\n",
    "        \n",
    "        if num % 2 != 0: #if it cant be divided is an odd\n",
    "            odds.append(num)\n",
    "            \n",
    "    #This will print the third value returned\n",
    "    for num in odds:\n",
    "        if count == 2:\n",
    "            print(num)\n",
    "            break\n",
    "        count += 1\n",
    "        \n",
    "#call for the function\n",
    "find_odds()"
   ]
  },
  {
   "cell_type": "code",
   "execution_count": null,
   "id": "dd21b685",
   "metadata": {},
   "outputs": [],
   "source": []
  }
 ],
 "metadata": {
  "kernelspec": {
   "display_name": "Python 3 (ipykernel)",
   "language": "python",
   "name": "python3"
  },
  "language_info": {
   "codemirror_mode": {
    "name": "ipython",
    "version": 3
   },
   "file_extension": ".py",
   "mimetype": "text/x-python",
   "name": "python",
   "nbconvert_exporter": "python",
   "pygments_lexer": "ipython3",
   "version": "3.11.5"
  }
 },
 "nbformat": 4,
 "nbformat_minor": 5
}
